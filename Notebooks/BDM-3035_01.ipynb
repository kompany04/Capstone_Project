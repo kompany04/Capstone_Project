{
 "cells": [
  {
   "cell_type": "markdown",
   "metadata": {},
   "source": [
    "**Group H**\n",
    "\n",
    "•\tSaurabh Laltaprasad Gangwar\n",
    "\n",
    "•\tBrayan Leonardo Gil Guevara\n",
    "\n",
    "•\tRohit Kumar\n",
    "\n",
    "•\tMarzieh Mohammadi Kokaneh\n",
    "\n",
    "•\tEduardo Roberto Williams Cascante"
   ]
  },
  {
   "cell_type": "markdown",
   "metadata": {},
   "source": [
    "**Notebook name:** BDM-3035_01.ipynb\n",
    "\n",
    "**Description:** This notebook just installs and runs labelme"
   ]
  },
  {
   "cell_type": "code",
   "execution_count": 1,
   "metadata": {},
   "outputs": [
    {
     "name": "stdout",
     "output_type": "stream",
     "text": [
      "Requirement already satisfied: labelme in c:\\users\\eduardo\\appdata\\local\\programs\\python\\python311\\lib\\site-packages (5.4.1)\n",
      "Requirement already satisfied: gdown in c:\\users\\eduardo\\appdata\\local\\programs\\python\\python311\\lib\\site-packages (from labelme) (5.2.0)\n",
      "Requirement already satisfied: imgviz>=1.7.5 in c:\\users\\eduardo\\appdata\\local\\programs\\python\\python311\\lib\\site-packages (from labelme) (1.7.5)\n",
      "Requirement already satisfied: matplotlib in c:\\users\\eduardo\\appdata\\local\\programs\\python\\python311\\lib\\site-packages (from labelme) (3.7.1)\n",
      "Requirement already satisfied: natsort>=7.1.0 in c:\\users\\eduardo\\appdata\\local\\programs\\python\\python311\\lib\\site-packages (from labelme) (8.4.0)\n",
      "Requirement already satisfied: numpy in c:\\users\\eduardo\\appdata\\local\\programs\\python\\python311\\lib\\site-packages (from labelme) (1.26.4)\n",
      "Requirement already satisfied: onnxruntime!=1.16.0,>=1.14.1 in c:\\users\\eduardo\\appdata\\local\\programs\\python\\python311\\lib\\site-packages (from labelme) (1.18.0)\n",
      "Requirement already satisfied: Pillow>=2.8 in c:\\users\\eduardo\\appdata\\local\\programs\\python\\python311\\lib\\site-packages (from labelme) (9.5.0)\n",
      "Requirement already satisfied: PyYAML in c:\\users\\eduardo\\appdata\\local\\programs\\python\\python311\\lib\\site-packages (from labelme) (6.0.1)\n",
      "Requirement already satisfied: qtpy!=1.11.2 in c:\\users\\eduardo\\appdata\\local\\programs\\python\\python311\\lib\\site-packages (from labelme) (2.4.1)\n",
      "Requirement already satisfied: scikit-image in c:\\users\\eduardo\\appdata\\local\\programs\\python\\python311\\lib\\site-packages (from labelme) (0.23.2)\n",
      "Requirement already satisfied: termcolor in c:\\users\\eduardo\\appdata\\local\\programs\\python\\python311\\lib\\site-packages (from labelme) (2.4.0)\n",
      "Requirement already satisfied: PyQt5!=5.15.3,!=5.15.4 in c:\\users\\eduardo\\appdata\\local\\programs\\python\\python311\\lib\\site-packages (from labelme) (5.15.10)\n",
      "Requirement already satisfied: colorama in c:\\users\\eduardo\\appdata\\local\\programs\\python\\python311\\lib\\site-packages (from labelme) (0.4.6)\n",
      "Requirement already satisfied: coloredlogs in c:\\users\\eduardo\\appdata\\local\\programs\\python\\python311\\lib\\site-packages (from onnxruntime!=1.16.0,>=1.14.1->labelme) (15.0.1)\n",
      "Requirement already satisfied: flatbuffers in c:\\users\\eduardo\\appdata\\local\\programs\\python\\python311\\lib\\site-packages (from onnxruntime!=1.16.0,>=1.14.1->labelme) (24.3.25)\n",
      "Requirement already satisfied: packaging in c:\\users\\eduardo\\appdata\\local\\programs\\python\\python311\\lib\\site-packages (from onnxruntime!=1.16.0,>=1.14.1->labelme) (23.1)\n",
      "Requirement already satisfied: protobuf in c:\\users\\eduardo\\appdata\\local\\programs\\python\\python311\\lib\\site-packages (from onnxruntime!=1.16.0,>=1.14.1->labelme) (4.25.3)\n",
      "Requirement already satisfied: sympy in c:\\users\\eduardo\\appdata\\local\\programs\\python\\python311\\lib\\site-packages (from onnxruntime!=1.16.0,>=1.14.1->labelme) (1.12)\n",
      "Requirement already satisfied: PyQt5-sip<13,>=12.13 in c:\\users\\eduardo\\appdata\\local\\programs\\python\\python311\\lib\\site-packages (from PyQt5!=5.15.3,!=5.15.4->labelme) (12.13.0)\n",
      "Requirement already satisfied: PyQt5-Qt5>=5.15.2 in c:\\users\\eduardo\\appdata\\local\\programs\\python\\python311\\lib\\site-packages (from PyQt5!=5.15.3,!=5.15.4->labelme) (5.15.2)\n",
      "Requirement already satisfied: beautifulsoup4 in c:\\users\\eduardo\\appdata\\local\\programs\\python\\python311\\lib\\site-packages (from gdown->labelme) (4.12.2)\n",
      "Requirement already satisfied: filelock in c:\\users\\eduardo\\appdata\\local\\programs\\python\\python311\\lib\\site-packages (from gdown->labelme) (3.12.2)\n",
      "Requirement already satisfied: requests[socks] in c:\\users\\eduardo\\appdata\\local\\programs\\python\\python311\\lib\\site-packages (from gdown->labelme) (2.31.0)\n",
      "Requirement already satisfied: tqdm in c:\\users\\eduardo\\appdata\\local\\programs\\python\\python311\\lib\\site-packages (from gdown->labelme) (4.66.1)\n",
      "Requirement already satisfied: contourpy>=1.0.1 in c:\\users\\eduardo\\appdata\\local\\programs\\python\\python311\\lib\\site-packages (from matplotlib->labelme) (1.0.7)\n",
      "Requirement already satisfied: cycler>=0.10 in c:\\users\\eduardo\\appdata\\local\\programs\\python\\python311\\lib\\site-packages (from matplotlib->labelme) (0.11.0)\n",
      "Requirement already satisfied: fonttools>=4.22.0 in c:\\users\\eduardo\\appdata\\local\\programs\\python\\python311\\lib\\site-packages (from matplotlib->labelme) (4.39.4)\n",
      "Requirement already satisfied: kiwisolver>=1.0.1 in c:\\users\\eduardo\\appdata\\local\\programs\\python\\python311\\lib\\site-packages (from matplotlib->labelme) (1.4.4)\n",
      "Requirement already satisfied: pyparsing>=2.3.1 in c:\\users\\eduardo\\appdata\\local\\programs\\python\\python311\\lib\\site-packages (from matplotlib->labelme) (3.0.9)\n",
      "Requirement already satisfied: python-dateutil>=2.7 in c:\\users\\eduardo\\appdata\\local\\programs\\python\\python311\\lib\\site-packages (from matplotlib->labelme) (2.8.2)\n",
      "Requirement already satisfied: scipy>=1.9 in c:\\users\\eduardo\\appdata\\local\\programs\\python\\python311\\lib\\site-packages (from scikit-image->labelme) (1.11.2)\n",
      "Requirement already satisfied: networkx>=2.8 in c:\\users\\eduardo\\appdata\\local\\programs\\python\\python311\\lib\\site-packages (from scikit-image->labelme) (3.3)\n",
      "Requirement already satisfied: imageio>=2.33 in c:\\users\\eduardo\\appdata\\local\\programs\\python\\python311\\lib\\site-packages (from scikit-image->labelme) (2.34.1)\n",
      "Requirement already satisfied: tifffile>=2022.8.12 in c:\\users\\eduardo\\appdata\\local\\programs\\python\\python311\\lib\\site-packages (from scikit-image->labelme) (2024.5.10)\n",
      "Requirement already satisfied: lazy-loader>=0.4 in c:\\users\\eduardo\\appdata\\local\\programs\\python\\python311\\lib\\site-packages (from scikit-image->labelme) (0.4)\n",
      "Requirement already satisfied: six>=1.5 in c:\\users\\eduardo\\appdata\\local\\programs\\python\\python311\\lib\\site-packages (from python-dateutil>=2.7->matplotlib->labelme) (1.16.0)\n",
      "Requirement already satisfied: soupsieve>1.2 in c:\\users\\eduardo\\appdata\\local\\programs\\python\\python311\\lib\\site-packages (from beautifulsoup4->gdown->labelme) (2.4.1)\n",
      "Requirement already satisfied: humanfriendly>=9.1 in c:\\users\\eduardo\\appdata\\local\\programs\\python\\python311\\lib\\site-packages (from coloredlogs->onnxruntime!=1.16.0,>=1.14.1->labelme) (10.0)\n",
      "Requirement already satisfied: charset-normalizer<4,>=2 in c:\\users\\eduardo\\appdata\\local\\programs\\python\\python311\\lib\\site-packages (from requests[socks]->gdown->labelme) (3.2.0)\n",
      "Requirement already satisfied: idna<4,>=2.5 in c:\\users\\eduardo\\appdata\\local\\programs\\python\\python311\\lib\\site-packages (from requests[socks]->gdown->labelme) (3.4)\n",
      "Requirement already satisfied: urllib3<3,>=1.21.1 in c:\\users\\eduardo\\appdata\\local\\programs\\python\\python311\\lib\\site-packages (from requests[socks]->gdown->labelme) (1.26.16)\n",
      "Requirement already satisfied: certifi>=2017.4.17 in c:\\users\\eduardo\\appdata\\local\\programs\\python\\python311\\lib\\site-packages (from requests[socks]->gdown->labelme) (2023.7.22)\n",
      "Requirement already satisfied: PySocks!=1.5.7,>=1.5.6 in c:\\users\\eduardo\\appdata\\local\\programs\\python\\python311\\lib\\site-packages (from requests[socks]->gdown->labelme) (1.7.1)\n",
      "Requirement already satisfied: mpmath>=0.19 in c:\\users\\eduardo\\appdata\\local\\programs\\python\\python311\\lib\\site-packages (from sympy->onnxruntime!=1.16.0,>=1.14.1->labelme) (1.3.0)\n",
      "Requirement already satisfied: pyreadline3 in c:\\users\\eduardo\\appdata\\local\\programs\\python\\python311\\lib\\site-packages (from humanfriendly>=9.1->coloredlogs->onnxruntime!=1.16.0,>=1.14.1->labelme) (3.4.1)\n",
      "Note: you may need to restart the kernel to use updated packages.\n"
     ]
    },
    {
     "name": "stderr",
     "output_type": "stream",
     "text": [
      "\n",
      "[notice] A new release of pip is available: 23.3.1 -> 24.0\n",
      "[notice] To update, run: python.exe -m pip install --upgrade pip\n"
     ]
    }
   ],
   "source": [
    "%pip install labelme"
   ]
  },
  {
   "cell_type": "code",
   "execution_count": 2,
   "metadata": {},
   "outputs": [
    {
     "name": "stderr",
     "output_type": "stream",
     "text": [
      "2024-06-06 09:22:21,815 [INFO   ] __init__:get_config:67- Loading config file from: C:\\Users\\Eduardo\\.labelmerc\n"
     ]
    }
   ],
   "source": [
    "!labelme"
   ]
  }
 ],
 "metadata": {
  "kernelspec": {
   "display_name": "Python 3",
   "language": "python",
   "name": "python3"
  },
  "language_info": {
   "codemirror_mode": {
    "name": "ipython",
    "version": 3
   },
   "file_extension": ".py",
   "mimetype": "text/x-python",
   "name": "python",
   "nbconvert_exporter": "python",
   "pygments_lexer": "ipython3",
   "version": "3.11.3"
  }
 },
 "nbformat": 4,
 "nbformat_minor": 2
}
