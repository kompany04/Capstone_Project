{
 "cells": [
  {
   "cell_type": "markdown",
   "metadata": {},
   "source": [
    "**Group H**\n",
    "\n",
    "•\tSaurabh Laltaprasad Gangwar\n",
    "\n",
    "•\tBrayan Leonardo Gil Guevara\n",
    "\n",
    "•\tRohit Kumar\n",
    "\n",
    "•\tMarzieh Mohammadi Kokaneh\n",
    "\n",
    "•\tEduardo Roberto Williams Cascante"
   ]
  },
  {
   "cell_type": "markdown",
   "metadata": {},
   "source": [
    "**Notebook name:** BDM-3035_02_splitting.ipynb\n",
    "\n",
    "**Description:** This notebook performs the splitting process among train, validation and test image datasets"
   ]
  },
  {
   "cell_type": "markdown",
   "metadata": {},
   "source": [
    "**Version:**\n",
    "\n",
    "Python 3.11.3"
   ]
  },
  {
   "cell_type": "code",
   "execution_count": 1,
   "metadata": {},
   "outputs": [],
   "source": [
    "# importing libraries\n",
    "import os"
   ]
  },
  {
   "cell_type": "markdown",
   "metadata": {},
   "source": [
    "***\n",
    "**DATA SPLITTING**\n",
    "***\n",
    "\n",
    "**NOTE:** Before splitting verify that all jpg files have 480 x 480 size \n",
    "\n",
    "Take (manually) all jpg files from images folder and distribute them as follows:\n",
    "- TRAIN folder --> 70%\n",
    "- TEST folder  --> 15%\n",
    "- VALID folder --> 15%\n",
    "\n",
    "After that execute the following section for moving json files (labels) where appropriate"
   ]
  },
  {
   "cell_type": "code",
   "execution_count": null,
   "metadata": {},
   "outputs": [],
   "source": [
    "# Move the matching labels\n",
    "for folder in ['train', 'test', 'valid']:\n",
    "    for file in os.listdir(os.path.join('data', folder, 'images')):\n",
    "        filename = file.split('.')[0] + '.json'\n",
    "        existing_filepath = os.path.join('data', 'labels', filename)\n",
    "        if os.path.exists(existing_filepath):\n",
    "           new_filepath = os.path.join('data', folder, 'labels', filename)\n",
    "           os.replace(existing_filepath, new_filepath)"
   ]
  }
 ],
 "metadata": {
  "kernelspec": {
   "display_name": "Python 3",
   "language": "python",
   "name": "python3"
  },
  "language_info": {
   "codemirror_mode": {
    "name": "ipython",
    "version": 3
   },
   "file_extension": ".py",
   "mimetype": "text/x-python",
   "name": "python",
   "nbconvert_exporter": "python",
   "pygments_lexer": "ipython3",
   "version": "3.11.3"
  }
 },
 "nbformat": 4,
 "nbformat_minor": 2
}
